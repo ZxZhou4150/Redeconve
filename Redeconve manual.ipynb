{
 "cells": [
  {
   "cell_type": "markdown",
   "id": "7d0df82e",
   "metadata": {},
   "source": [
    "# Redeconve manual"
   ]
  },
  {
   "cell_type": "markdown",
   "id": "09ef4cdc",
   "metadata": {},
   "source": [
    "---"
   ]
  },
  {
   "cell_type": "code",
   "execution_count": 1,
   "id": "a661e34a",
   "metadata": {
    "vscode": {
     "languageId": "r"
    }
   },
   "outputs": [
    {
     "name": "stderr",
     "output_type": "stream",
     "text": [
      "Loading required package: foreach\n",
      "\n",
      "Loading required package: ggrepel\n",
      "\n",
      "Warning message:\n",
      "\"package 'ggrepel' was built under R version 4.2.3\"\n",
      "Loading required package: igraph\n",
      "\n",
      "Warning message:\n",
      "\"package 'igraph' was built under R version 4.2.3\"\n",
      "\n",
      "Attaching package: 'igraph'\n",
      "\n",
      "\n",
      "The following objects are masked from 'package:stats':\n",
      "\n",
      "    decompose, spectrum\n",
      "\n",
      "\n",
      "The following object is masked from 'package:base':\n",
      "\n",
      "    union\n",
      "\n",
      "\n",
      "Loading required package: scatterpie\n",
      "\n",
      "Warning message:\n",
      "\"package 'scatterpie' was built under R version 4.2.3\"\n"
     ]
    }
   ],
   "source": [
    "library(Redeconve)"
   ]
  },
  {
   "cell_type": "markdown",
   "id": "5f0b1e38",
   "metadata": {},
   "source": [
    "---"
   ]
  },
  {
   "cell_type": "markdown",
   "id": "22c5ea93",
   "metadata": {},
   "source": [
    "## 1 Main function"
   ]
  },
  {
   "cell_type": "markdown",
   "id": "904ba514",
   "metadata": {},
   "source": [
    "This part describes how to use the main function `deconvoluting` to perform single-cell deconvolution."
   ]
  },
  {
   "cell_type": "markdown",
   "id": "eb0383ce",
   "metadata": {},
   "source": [
    "### Usage"
   ]
  },
  {
   "cell_type": "markdown",
   "id": "86bdeb62",
   "metadata": {},
   "source": [
    "The usage of `deconvoluting` is as follows:"
   ]
  },
  {
   "cell_type": "code",
   "execution_count": 2,
   "id": "7f46fce3",
   "metadata": {
    "vscode": {
     "languageId": "r"
    }
   },
   "outputs": [],
   "source": [
    "## nums = deconvoluting(ref, st, cellnames=NULL, genemode, gene.list, var_thresh=0.025, exp_thresh=0.03, hpmode, hp, normalize = T, thre=1e-10, dopar=T, ncores, realtime=F, dir=NULL)"
   ]
  },
  {
   "cell_type": "markdown",
   "id": "a68416ce",
   "metadata": {},
   "source": [
    "It does contains many parameters. Next, I will divide these parameters into several parts by function, and explain them one by one."
   ]
  },
  {
   "cell_type": "markdown",
   "id": "ba351b95",
   "metadata": {},
   "source": [
    "### 1.1 Necessary data for deconvolution"
   ]
  },
  {
   "cell_type": "markdown",
   "id": "a593aead",
   "metadata": {},
   "source": [
    "`ref` and `st` are the core data used for deconvolution. They are required as follows:\n",
    "\n",
    "-   `ref`, the scRNA-seq data served as reference for deconvolution. It is a `Matrix` (or `dgCMatrix`) of unprocessed count-level scRNA-seq data. One row represents one gene and one column represents one cell.\n",
    "-   `st`, the spatial transcriptomics to be deconvoluted. It is a `Matrix` (or `dgCMatrix`) of unprocessed spatial transcriptomics, represents raw counts in each spot. One row represents one gene and one column represents one spot."
   ]
  },
  {
   "cell_type": "markdown",
   "id": "eec9dbbd",
   "metadata": {},
   "source": [
    "### 1.2 Mode of gene selection"
   ]
  },
  {
   "cell_type": "markdown",
   "id": "238b57cf",
   "metadata": {},
   "source": [
    "`genemode`, `gene.list`, `var_thresh` and `exp_thresh` are about how to deal with genes. `genemode` determines the mode of handling genes and `gene.list`, `var_thresh`, `exp_thresh` are associated with specific modes. Redeconve offers 3 alternative modes of dealing with genes:\n",
    "\n",
    "1.  `default`: Use the intersection of genes in `ref` and `st`, without other treatment.\n",
    "2.  `customized`: Indicating gene list yourself. Parameter `gene.list` is the list of genes you indicated. Note that only those genes within the intersection of `ref` and `st` would be used.\n",
    "3.  `filtered`: We will use a built-in function `gene.filter` to screen some genes. This function will first take the intersection of `ref` and `st`, the use two indices, `var_thresh` and `exp_thresh` to filter genes. You can customize these two parameters as well.\n",
    "\n",
    "-   `var_thresh` considers variance of reference. Genes whose variance across all cells in reference do not reach that threshold will be filtered out. The default value is 0.025.\n",
    "-   `exp_thresh` considers expression in spatial transcriptomics. Genes whose average count across all spots in spatial transcriptomics is less that this value will be filtered out. The default value is 0.003."
   ]
  },
  {
   "cell_type": "markdown",
   "id": "7b265298",
   "metadata": {},
   "source": [
    "### 1.3 Mode of determining hyperparameter"
   ]
  },
  {
   "cell_type": "markdown",
   "id": "ed9cb92d",
   "metadata": {},
   "source": [
    "The hyperparamter is our key to single-cell resolution (See Methods for details). Here we still offers 3 modes to determine the hyperparameter:\n",
    "\n",
    "1.  `default`: We will calculate a hyperparameter according to the number of genes and cells in reference (See Methods for details).\n",
    "2.  `customized`: Indicating the hyperparameter yourself.\n",
    "3.  `autoselection`: Redeconve will use a procedure to select the optimal hyperparameter. In this procedure, a series of hyperparameter will be set in the vicinity of the hyperparameter selected by mode `default`, and Redeconve will use these hyperparameters to perform deconvolution separately, then return the result with the best hyperparameter. You can see Methods for details about how we determine the best hyperparameter.\n",
    "\n",
    "Note that in this procedure, several rounds of deconvolution will be performed, so it may take a long time. Under such circumstances, parallel computing will be beneficial."
   ]
  },
  {
   "cell_type": "markdown",
   "id": "e377a581",
   "metadata": {},
   "source": [
    "### 1.4 Parallel computing"
   ]
  },
  {
   "cell_type": "markdown",
   "id": "82b7f668",
   "metadata": {},
   "source": [
    "Sometimes the reference will contain tens of thousands of cells, or the spatial transcriptomics will contain tens of thousands of spots (e.g. when the data is from Slide-seq), then parallel computing is useful. Redeconve uses the package \"doSNOW\" to achieve parallel computing (which means there is a progress bar). Related parameters are `dopar` and `ncores`.\n",
    "\n",
    "-   `dopar` determines whether to use parallel computing or not.\n",
    "-   `ncores` indicates the number of cores to be used in parallel computing. It's recommended to manually set this parameter rather than use the function `detectCores` to avoid underlying errors.\n",
    "\n",
    "<font color = red>! Important tips for parallel computing: !</font>\n",
    "\n",
    "1.  Our underlying algorithm makes use of OpenBLAS, which may include parallel computing inside. Therefore, setting `system(\"export OPENBLAS_NUM_THREADS=1\")` is necessary to avoid underlying errors.\n",
    "2.  An error may be reported when the number of threads is too large : `Error in socketAccept(socket = socket, blocking = TRUE, open = \"a+b\",: all connections are in use`. If such error occurs, please reduce the number of cores."
   ]
  },
  {
   "cell_type": "markdown",
   "id": "b624dbd0",
   "metadata": {},
   "source": [
    "### 1.5 Writing real-time results"
   ]
  },
  {
   "cell_type": "markdown",
   "id": "de7421fb",
   "metadata": {},
   "source": [
    "Even with parallel computing, some dataset is still time-consuming. Redeconve is able to write results into disk in real time at the cost of some running speed. Related parameters are `realtime` and `dir`.\n",
    "\n",
    "-   `realtime` determines whethers to write the results into disk in real time or not.\n",
    "-   `dir` indicates the directory to write the results.\n",
    "\n",
    "For real time results, the result of each spot will be write into a separate csv file, whose name is the barcode of the spot."
   ]
  },
  {
   "cell_type": "markdown",
   "id": "5455c508",
   "metadata": {},
   "source": [
    "### 1.6 Other parameters"
   ]
  },
  {
   "cell_type": "markdown",
   "id": "c01b0dba",
   "metadata": {},
   "source": [
    "The left parameters are `cellnames`, `normalize` and `thre`.\n",
    "\n",
    "-   `cellnames`: Chances are that you may not want to use all cells in reference to run deconvolution. Then you can indicate which cells will be used by this parameter. If you do not specify this parameter, all cells will be used.\n",
    "-   `normalize`: Redeconve can also be used for bulk RNA-seq deconvolution. When doing this, normalization for reference is not required. When deconvoluting spatial transcriptomics, normalization is recommended.\n",
    "-   `thre`: The estimated cell abundance will not be exactly 0. This parameter indicates that the abundance less than this value will be treated as 0. Generally this value does not need to be adjusted, and the result will remain the same within a relatively big range of this value."
   ]
  },
  {
   "cell_type": "markdown",
   "id": "c2f079d0",
   "metadata": {},
   "source": [
    "### A demo"
   ]
  },
  {
   "cell_type": "markdown",
   "id": "3a14dff3",
   "metadata": {},
   "source": [
    "Next we will use a demo to give an example of how to use this function."
   ]
  },
  {
   "cell_type": "code",
   "execution_count": 3,
   "id": "27b2905c",
   "metadata": {
    "vscode": {
     "languageId": "r"
    }
   },
   "outputs": [
    {
     "name": "stderr",
     "output_type": "stream",
     "text": [
      "Loading required package: Matrix\n",
      "\n"
     ]
    },
    {
     "data": {
      "text/plain": [
       "<Promise [fulfilled: dgCMatrix]>"
      ]
     },
     "metadata": {},
     "output_type": "display_data"
    },
    {
     "data": {
      "text/plain": [
       "<Promise [fulfilled: dgCMatrix]>"
      ]
     },
     "metadata": {},
     "output_type": "display_data"
    },
    {
     "data": {
      "text/html": [
       "<style>\n",
       ".list-inline {list-style: none; margin:0; padding: 0}\n",
       ".list-inline>li {display: inline-block}\n",
       ".list-inline>li:not(:last-child)::after {content: \"\\00b7\"; padding: 0 .5ex}\n",
       "</style>\n",
       "<ol class=list-inline><li>19736</li><li>500</li></ol>\n"
      ],
      "text/latex": [
       "\\begin{enumerate*}\n",
       "\\item 19736\n",
       "\\item 500\n",
       "\\end{enumerate*}\n"
      ],
      "text/markdown": [
       "1. 19736\n",
       "2. 500\n",
       "\n",
       "\n"
      ],
      "text/plain": [
       "[1] 19736   500"
      ]
     },
     "metadata": {},
     "output_type": "display_data"
    },
    {
     "data": {
      "text/html": [
       "<style>\n",
       ".list-inline {list-style: none; margin:0; padding: 0}\n",
       ".list-inline>li {display: inline-block}\n",
       ".list-inline>li:not(:last-child)::after {content: \"\\00b7\"; padding: 0 .5ex}\n",
       "</style>\n",
       "<ol class=list-inline><li>19736</li><li>428</li></ol>\n"
      ],
      "text/latex": [
       "\\begin{enumerate*}\n",
       "\\item 19736\n",
       "\\item 428\n",
       "\\end{enumerate*}\n"
      ],
      "text/markdown": [
       "1. 19736\n",
       "2. 428\n",
       "\n",
       "\n"
      ],
      "text/plain": [
       "[1] 19736   428"
      ]
     },
     "metadata": {},
     "output_type": "display_data"
    }
   ],
   "source": [
    "## load the data\n",
    "data(basic)\n",
    "\n",
    "promises::promise_resolve(sc)\n",
    "promises::promise_resolve(st)\n",
    "\n",
    "## check the dimensions of sc and st\n",
    "dim(sc)\n",
    "dim(st)"
   ]
  },
  {
   "cell_type": "code",
   "execution_count": 4,
   "id": "64d204a0",
   "metadata": {
    "vscode": {
     "languageId": "r"
    }
   },
   "outputs": [
    {
     "data": {
      "text/plain": [
       "\n",
       "                          Acinar cells                         Cancer clone A \n",
       "                                     3                                     33 \n",
       "                        Cancer clone B            Ductal - APOL1 high/hypoxic \n",
       "                                    44                                     56 \n",
       "Ductal - CRISP3 high/centroacinar like                  Ductal - MHC Class II \n",
       "                                   137                                     75 \n",
       "         Ductal - terminal ductal like                        Endocrine cells \n",
       "                                    91                                      1 \n",
       "                     Endothelial cells                            Fibroblasts \n",
       "                                     3                                      1 \n",
       "                         Macrophages A                          Macrophages B \n",
       "                                     5                                      5 \n",
       "                            Mast cells                                 mDCs A \n",
       "                                     4                                      3 \n",
       "                                mDCs B                              Monocytes \n",
       "                                     9                                      5 \n",
       "                                  pDCs                                   RBCs \n",
       "                                     3                                      4 \n",
       "                    T cells & NK cells                             Tuft cells \n",
       "                                    10                                      8 "
      ]
     },
     "metadata": {},
     "output_type": "display_data"
    }
   ],
   "source": [
    "## check the number cells in each cell type\n",
    "table(annotations[,2])"
   ]
  },
  {
   "cell_type": "code",
   "execution_count": 5,
   "id": "86b7bef1",
   "metadata": {
    "vscode": {
     "languageId": "r"
    }
   },
   "outputs": [
    {
     "name": "stdout",
     "output_type": "stream",
     "text": [
      "[1] \"Number of selected genes: 19736\"\n",
      "[1] \"Calculating correlation matrix ...\"\n",
      "[1] \"Set hyperparameter as: 7894\"\n",
      "[1] \"Calculating Hessian matrix ...\"\n",
      "[1] \"Running deconvolution ...\"\n",
      "  |======================================================================| 100%\n"
     ]
    }
   ],
   "source": [
    "## deconvolution\n",
    "# this may take a long time\n",
    "res = deconvoluting(sc,st,genemode=\"def\",hpmode=\"def\",dopar=T,ncores=8)"
   ]
  },
  {
   "cell_type": "markdown",
   "id": "8889d5d7",
   "metadata": {},
   "source": [
    "-   `sc` and `st` are separately reference and spatial transcriptomics.\n",
    "-   `genemode` is set to `\"default\"` to guarantee accuracy.\n",
    "-   `hpmode` is set to `\"default\"` to improve efficiency.\n",
    "-   `dopar` is set to `TRUE` (default value) and `ncores` is set to 8. You can raise the number of cores to improve efficiency.\n",
    "-   For this dataset is not very large, `realtime` is set to `FALSE` (default value).\n",
    "-   We want to use all cells in deconvolution, so we do not need to specify `cellnames`. Also, we do not need to adjust `thre`."
   ]
  },
  {
   "cell_type": "markdown",
   "id": "26dd3704",
   "metadata": {},
   "source": [
    "---"
   ]
  },
  {
   "cell_type": "markdown",
   "id": "124dc7ae",
   "metadata": {},
   "source": [
    "## 2 Dealing with large scRNA datasets"
   ]
  },
  {
   "cell_type": "markdown",
   "id": "a52433bb",
   "metadata": {},
   "source": [
    "Nowadays the scale of scRNA datasets are getting increasingly larger. Sometimes the reference cells can reach to sub-million or million level. Although Redeconve possesses high efficiency, directly using so much cells as reference is both time consuming and low yield. Here we provide two ways to deal with such situation:"
   ]
  },
  {
   "cell_type": "markdown",
   "id": "cce0c66f",
   "metadata": {},
   "source": [
    "### 2.1 Cell-type deconvolution"
   ]
  },
  {
   "cell_type": "markdown",
   "id": "964f18ca",
   "metadata": {},
   "source": [
    "Like other methods, Redeconve can also perform deconvolution at cell-type level. This part shows how to do so."
   ]
  },
  {
   "cell_type": "code",
   "execution_count": 6,
   "id": "f7f53d97",
   "metadata": {
    "vscode": {
     "languageId": "r"
    }
   },
   "outputs": [
    {
     "name": "stdout",
     "output_type": "stream",
     "text": [
      "[1] \"Number of selected genes: 19736\"\n",
      "[1] \"Calculating correlation matrix ...\"\n",
      "[1] \"iteration 1: hp = 49340\"\n",
      "[1] \"Calculating Hessian matrix ...\"\n",
      "[1] \"Running deconvolution ...\"\n",
      "  |======================================================================| 100%\n",
      "[1] \"iteration 2: hp = 493400\"\n",
      "[1] \"Calculating Hessian matrix ...\"\n",
      "[1] \"Running deconvolution ...\"\n",
      "  |======================================================================| 100%\n",
      "[1] \"iteration 3: hp = 4934000\"\n",
      "[1] \"Calculating Hessian matrix ...\"\n",
      "[1] \"Running deconvolution ...\"\n",
      "  |======================================================================| 100%\n",
      "[1] \"iteration 4: hp = 49340000\"\n",
      "[1] \"Calculating Hessian matrix ...\"\n",
      "[1] \"Running deconvolution ...\"\n",
      "  |======================================================================| 100%\n",
      "[1] \"iteration 5: hp = 493400000\"\n",
      "[1] \"Calculating Hessian matrix ...\"\n",
      "[1] \"Running deconvolution ...\"\n",
      "  |======================================================================| 100%\n",
      "[1] \"iteration 6: hp = 4.934e+09\"\n",
      "[1] \"Calculating Hessian matrix ...\"\n",
      "[1] \"Running deconvolution ...\"\n",
      "  |======================================================================| 100%\n",
      "[1] \"Select the hyperparameter as: 493400\"\n"
     ]
    }
   ],
   "source": [
    "## get reference\n",
    "ref = get.ref(sc,annotations,dopar = F)\n",
    "\n",
    "## deconvolution\n",
    "res.ct = deconvoluting(ref,st,genemode=\"def\",hpmode=\"auto\",dopar=T,ncores=8)"
   ]
  },
  {
   "cell_type": "markdown",
   "id": "5f6e3ff5",
   "metadata": {},
   "source": [
    "You can see that actually, only one more step is required to convert single-cell expression profile to that of cell type. The function `get.ref` will take the average expression of all cells in one cell type as the profile of that cell type. Note that `get.ref` also has parameters `dopar` and `ncores`, with which you can perform parallel computing when the scale of `sc` is too large.\n",
    "\n",
    "For the main function, every thing is the same except that we set `hpmode` as `\"autoselection\"`, for there are only tens of cell types, then the speed is fast enough for us to run several rounds of deconvolution."
   ]
  },
  {
   "cell_type": "markdown",
   "id": "e77e9374",
   "metadata": {},
   "source": [
    "### 2.2 Sampling"
   ]
  },
  {
   "cell_type": "markdown",
   "id": "e4e4a3d0",
   "metadata": {},
   "source": [
    "Down-sampling is another way to deal with large scRNA datasets. Function `cell.sampling` is designed for this."
   ]
  },
  {
   "cell_type": "code",
   "execution_count": 7,
   "id": "97b56072",
   "metadata": {
    "vscode": {
     "languageId": "r"
    }
   },
   "outputs": [
    {
     "name": "stdout",
     "output_type": "stream",
     "text": [
      "[1] \"cells actually taken: 201\"\n"
     ]
    }
   ],
   "source": [
    "idx = cell.sampling(ncells = 500, annotations, size = 200, prot=T)\n",
    "sc.ds = sc[,idx[,1]]"
   ]
  },
  {
   "cell_type": "markdown",
   "id": "9523ba9d",
   "metadata": {},
   "source": [
    "This function returns a 2-columned matrix showing the barcodes and annotations of selected cells. The first parameter `ncells` is the original number of cells in scRNA dataset and the third `size` is the number of cells you want. The fourth parameter `prot` is to guarantee that at least one cell of each cell type in `annotations` is selected when set to `TRUE`."
   ]
  },
  {
   "cell_type": "code",
   "execution_count": 8,
   "id": "57b25ec4",
   "metadata": {
    "vscode": {
     "languageId": "r"
    }
   },
   "outputs": [
    {
     "name": "stdout",
     "output_type": "stream",
     "text": [
      "[1] \"Number of selected genes: 19736\"\n",
      "[1] \"Calculating correlation matrix ...\"\n",
      "[1] \"Set hyperparameter as: 48850\"\n",
      "[1] \"Calculating Hessian matrix ...\"\n",
      "[1] \"Running deconvolution ...\"\n",
      "  |======================================================================| 100%\n"
     ]
    }
   ],
   "source": [
    "res.ds = deconvoluting(sc.ds,st,genemode=\"def\",hpmode=\"def\",dopar=T,ncores=8)"
   ]
  },
  {
   "cell_type": "markdown",
   "id": "d088f47c",
   "metadata": {},
   "source": [
    "---"
   ]
  },
  {
   "cell_type": "markdown",
   "id": "81330f56",
   "metadata": {},
   "source": [
    "## 3 Seurat interface"
   ]
  },
  {
   "cell_type": "markdown",
   "id": "4922ca23",
   "metadata": {},
   "source": [
    "This package provided two functions to extract information from Seurat object to satisfy Redeconve's input:"
   ]
  },
  {
   "cell_type": "code",
   "execution_count": 9,
   "id": "02b61956",
   "metadata": {
    "vscode": {
     "languageId": "r"
    }
   },
   "outputs": [
    {
     "name": "stderr",
     "output_type": "stream",
     "text": [
      "Attaching SeuratObject\n",
      "\n",
      "── \u001b[1mInstalled datasets\u001b[22m ───────────────────────────────────── SeuratData v0.2.2 ──\n",
      "\n",
      "\u001b[32m✔\u001b[39m \u001b[34mpbmc3k  \u001b[39m 3.1.4                        \u001b[32m✔\u001b[39m \u001b[34mstxBrain\u001b[39m 0.1.1\n",
      "\n",
      "\n",
      "────────────────────────────────────── Key ─────────────────────────────────────\n",
      "\n",
      "\u001b[32m✔\u001b[39m Dataset loaded successfully\n",
      "\u001b[33m❯\u001b[39m Dataset built with a newer version of Seurat than installed\n",
      "\u001b[31m❓\u001b[39m Unknown version of Seurat installed\n",
      "\n",
      "\n",
      "Warning message:\n",
      "\"The following packages are already installed and will not be reinstalled: pbmc3k\"\n",
      "Warning message:\n",
      "\"The following packages are already installed and will not be reinstalled: stxBrain\"\n",
      "Validating object structure\n",
      "\n",
      "Updating object slots\n",
      "\n",
      "Ensuring keys are in the proper structure\n",
      "\n",
      "Ensuring feature names don't have underscores or pipes\n",
      "\n",
      "Object representation is consistent with the most current Seurat version\n",
      "\n"
     ]
    }
   ],
   "source": [
    "library(Seurat)\n",
    "library(SeuratData)\n",
    "\n",
    "## installing data\n",
    "InstallData(\"pbmc3k\")\n",
    "InstallData(\"stxBrain\")\n",
    "\n",
    "## sc\n",
    "pbmc3k = UpdateSeuratObject(pbmc3k)\n",
    "sclist = extract.seurat.sc(pbmc3k,anno_slot=\"seurat_annotations\")\n",
    "\n",
    "## st\n",
    "stxBrain = LoadData('stxBrain', type = 'anterior1')\n",
    "stlist = extract.seurat.st(stxBrain,coord_slot=\"anterior1\")\n",
    "\n",
    "## just for example\n",
    "# res = deconvoluting(sclist[[\"expr\"]],stlist[[\"expr\"],genemode=\"filt\",hpmode=\"auto\",dopar=T,ncores=8)"
   ]
  },
  {
   "cell_type": "markdown",
   "id": "f102d77e",
   "metadata": {},
   "source": [
    "---"
   ]
  },
  {
   "cell_type": "markdown",
   "id": "cdb24b8a",
   "metadata": {},
   "source": [
    "## 4 Downstream analysis and visualization"
   ]
  },
  {
   "cell_type": "markdown",
   "id": "699d65c2",
   "metadata": {},
   "source": [
    "Redeconve offers many built-in functions for downstream analysis and visualization."
   ]
  },
  {
   "cell_type": "markdown",
   "id": "319ba54f",
   "metadata": {},
   "source": [
    "### 4.1 Gaining interpretability"
   ]
  },
  {
   "cell_type": "markdown",
   "id": "be6bed2b",
   "metadata": {},
   "source": [
    "For we included a normalization procedure, the result of `deconvoluting` has only relative significance. Here are some functions related:\n",
    "\n",
    "4.1.1  `to.proportion`: This function converts the result to proportion, i.e., the sum of cell abundance per spot is 1. This is convenient for visualization."
   ]
  },
  {
   "cell_type": "code",
   "execution_count": 10,
   "id": "69238b7b",
   "metadata": {
    "vscode": {
     "languageId": "r"
    }
   },
   "outputs": [],
   "source": [
    "res.prop = to.proportion(res)"
   ]
  },
  {
   "cell_type": "markdown",
   "id": "a76d901b",
   "metadata": {},
   "source": [
    "4.1.2  `to.absolute.abundance`: This function converts the result to absolute cell abundance with some priori knowledge. Parameter `aver.cell` is required to estimate the absolute abundance of each cell state. This value indicates the average number of cells in one spot. Users can determine it according to the platform of st data. For example, 10x Visium has a spot radius of about 50$\\mu$m, so this value for a 10x Visium dataset is about 10."
   ]
  },
  {
   "cell_type": "code",
   "execution_count": 11,
   "id": "b2f83b64",
   "metadata": {
    "vscode": {
     "languageId": "r"
    }
   },
   "outputs": [],
   "source": [
    "res.ab = to.absolute.abundance(res,aver.cell=10)"
   ]
  },
  {
   "cell_type": "markdown",
   "id": "5f723bda",
   "metadata": {},
   "source": [
    "4.1.3  `sc2type`: This function merges single-cell result to cell-type result according to annotations. Note that this function itself does not provide interpretability."
   ]
  },
  {
   "cell_type": "code",
   "execution_count": 12,
   "id": "3986ce2d",
   "metadata": {
    "vscode": {
     "languageId": "r"
    }
   },
   "outputs": [],
   "source": [
    "res.ctmerge = sc2type(res,annotations)"
   ]
  },
  {
   "cell_type": "markdown",
   "id": "d0e08728",
   "metadata": {},
   "source": [
    "### 4.2 Cell occurrence"
   ]
  },
  {
   "cell_type": "markdown",
   "id": "483a1570",
   "metadata": {},
   "source": [
    "The function `cell.occur` shows the number of cells actually used in deconvolution, and the number of spots that every used cell occurs."
   ]
  },
  {
   "cell_type": "code",
   "execution_count": 13,
   "id": "e6c96dc9",
   "metadata": {
    "vscode": {
     "languageId": "r"
    }
   },
   "outputs": [
    {
     "name": "stdout",
     "output_type": "stream",
     "text": [
      "[1] \"196 in 500 cells are used.\"\n"
     ]
    },
    {
     "data": {
      "image/png": "[encoded data removed]",
      "text/plain": [
       "plot without title"
      ]
     },
     "metadata": {
      "image/png": {
       "height": 420,
       "width": 420
      }
     },
     "output_type": "display_data"
    }
   ],
   "source": [
    "cell.occur(res)"
   ]
  },
  {
   "cell_type": "markdown",
   "id": "e7ff94c8",
   "metadata": {},
   "source": [
    "### 4.3 Find cells of interest"
   ]
  },
  {
   "cell_type": "markdown",
   "id": "6d4f4d44",
   "metadata": {},
   "source": [
    "Redeconve offers a function to plot mean vs sd, and highlighting those outliers. Users can then explore those cells. Note that this function can only be run after `cell.occur`, because it needs `occurred.cells` as input, which is an output of `cell.occur`."
   ]
  },
  {
   "cell_type": "code",
   "execution_count": 14,
   "id": "f47ea6aa",
   "metadata": {
    "vscode": {
     "languageId": "r"
    }
   },
   "outputs": [
    {
     "name": "stdout",
     "output_type": "stream",
     "text": [
      " [1] \"Cancer.clone.A.117\"                        \n",
      " [2] \"Acinar.cells.10\"                           \n",
      " [3] \"Ductal...CRISP3.high.centroacinar.like.62\" \n",
      " [4] \"Macrophages.A\"                             \n",
      " [5] \"Fibroblasts.1\"                             \n",
      " [6] \"Ductal...CRISP3.high.centroacinar.like.311\"\n",
      " [7] \"Ductal...CRISP3.high.centroacinar.like.36\" \n",
      " [8] \"Ductal...CRISP3.high.centroacinar.like.58\" \n",
      " [9] \"Cancer.clone.A.115\"                        \n",
      "[10] \"Ductal...CRISP3.high.centroacinar.like.271\"\n"
     ]
    },
    {
     "data": {
      "image/png": "[encoded data removed]",
      "text/plain": [
       "plot without title"
      ]
     },
     "metadata": {
      "image/png": {
       "height": 420,
       "width": 420
      }
     },
     "output_type": "display_data"
    }
   ],
   "source": [
    "show.cellsofinterest(res, occurred.cells)"
   ]
  },
  {
   "cell_type": "markdown",
   "id": "19d643a2",
   "metadata": {},
   "source": [
    "### 4.4 Spatial distributiom of all or some specific cells"
   ]
  },
  {
   "cell_type": "markdown",
   "id": "02351536",
   "metadata": {},
   "source": [
    "The function `spatial.cell.number` can plot the abundance of all cells (or cell types) or some cells you indicate."
   ]
  },
  {
   "cell_type": "code",
   "execution_count": 15,
   "id": "ce7feb65",
   "metadata": {
    "vscode": {
     "languageId": "r"
    }
   },
   "outputs": [
    {
     "data": {
      "text/plain": [
       "[[1]]\n"
      ]
     },
     "metadata": {},
     "output_type": "display_data"
    },
    {
     "data": {
      "image/png": "[encoded data removed]",
      "text/plain": [
       "plot without title"
      ]
     },
     "metadata": {
      "image/png": {
       "height": 420,
       "width": 420
      }
     },
     "output_type": "display_data"
    }
   ],
   "source": [
    "spatial.cell.number(res.ctmerge,cell.names=\"T cells & NK cells\",coords=coords,size=4,pdfout=F)"
   ]
  },
  {
   "cell_type": "markdown",
   "id": "4d6d5123",
   "metadata": {},
   "source": [
    "Here we plotted the abundance of T cells & NK cells. When you want to plot the distribution of more than one cells, to set `pdfout` as `TRUE` is recommended."
   ]
  },
  {
   "cell_type": "markdown",
   "id": "2ceedc60",
   "metadata": {},
   "source": [
    "### 4.5 Spatial pie chart"
   ]
  },
  {
   "cell_type": "markdown",
   "id": "8f3a4983",
   "metadata": {},
   "source": [
    "The function `spatial.pie` can plot the spatial pie chart, showing the proportion of each cell type in each spatial spot."
   ]
  },
  {
   "cell_type": "code",
   "execution_count": 16,
   "id": "709292d9",
   "metadata": {
    "vscode": {
     "languageId": "r"
    }
   },
   "outputs": [
    {
     "data": {
      "image/png": "[encoded data removed]",
      "text/plain": [
       "plot without title"
      ]
     },
     "metadata": {
      "image/png": {
       "height": 420,
       "width": 420
      }
     },
     "output_type": "display_data"
    }
   ],
   "source": [
    "# For this is a demo, we use default colors. See function documentation for details.\n",
    "spatial.piechart(res.ctmerge,coords)"
   ]
  },
  {
   "cell_type": "markdown",
   "id": "c0d87120",
   "metadata": {},
   "source": [
    "### 4.6 Spot pie chart"
   ]
  },
  {
   "cell_type": "markdown",
   "id": "d544a7b5",
   "metadata": {},
   "source": [
    "The function `spot.pie` can plot the proportion of each cell type within a certain spot."
   ]
  },
  {
   "cell_type": "code",
   "execution_count": 17,
   "id": "f1ef16e9",
   "metadata": {
    "vscode": {
     "languageId": "r"
    }
   },
   "outputs": [
    {
     "data": {
      "image/png": "[encoded data removed]",
      "text/plain": [
       "plot without title"
      ]
     },
     "metadata": {
      "image/png": {
       "height": 420,
       "width": 420
      }
     },
     "output_type": "display_data"
    }
   ],
   "source": [
    "spot.pie(res[,\"X27x18\"],title=\"X27x18\")"
   ]
  },
  {
   "cell_type": "markdown",
   "id": "e98c939c",
   "metadata": {},
   "source": [
    "### 4.7 Co-localization"
   ]
  },
  {
   "cell_type": "markdown",
   "id": "e1d80f75",
   "metadata": {},
   "source": [
    "Function `coloc.network`infers a co-localization network from correlation of abundance of cells or cell types."
   ]
  },
  {
   "cell_type": "code",
   "execution_count": 18,
   "id": "f96e267a",
   "metadata": {
    "vscode": {
     "languageId": "r"
    }
   },
   "outputs": [
    {
     "name": "stderr",
     "output_type": "stream",
     "text": [
      "Warning message in cor(t(res.ctmerge), method = \"pearson\"):\n",
      "\"the standard deviation is zero\"\n"
     ]
    }
   ],
   "source": [
    "corr = cor(t(res.ctmerge),method = \"pearson\")\n",
    "celltypes = levels(as.factor(annotations[,2]))\n",
    "g = coloc.network(corr,thresh=0.4,cell.type=T,annotations=celltypes,ntypes=length(celltypes))"
   ]
  },
  {
   "cell_type": "markdown",
   "id": "abd5680a",
   "metadata": {},
   "source": [
    "The parameter `thresh` means that only correlation coefficient larger than this value is regarded as an edge."
   ]
  },
  {
   "cell_type": "code",
   "execution_count": 19,
   "id": "412390c6",
   "metadata": {
    "vscode": {
     "languageId": "r"
    }
   },
   "outputs": [
    {
     "data": {
      "image/png": "[encoded data removed]",
      "text/plain": [
       "Plot with title \"\""
      ]
     },
     "metadata": {
      "image/png": {
       "height": 420,
       "width": 420
      }
     },
     "output_type": "display_data"
    }
   ],
   "source": [
    "# plotting with igraph\n",
    "plot(g, vertex.size = 20, vertex.label.cex = 0.7, layout=layout_in_circle)"
   ]
  }
 ],
 "metadata": {
  "kernelspec": {
   "display_name": "R",
   "language": "R",
   "name": "ir"
  },
  "language_info": {
   "codemirror_mode": "r",
   "file_extension": ".r",
   "mimetype": "text/x-r-source",
   "name": "R",
   "pygments_lexer": "r",
   "version": "4.2.2"
  }
 },
 "nbformat": 4,
 "nbformat_minor": 5
}
